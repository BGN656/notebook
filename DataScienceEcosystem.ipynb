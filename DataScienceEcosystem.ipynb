{
 "cells": [
  {
   "cell_type": "markdown",
   "id": "5ecb4b24-9254-4252-8386-90f0647f7c74",
   "metadata": {},
   "source": [
    "# Інструменти"
   ]
  },
  {
   "attachments": {},
   "cell_type": "markdown",
   "id": "25c03ce9-c5a3-4f0d-b132-ff62101c2d7c",
   "metadata": {},
   "source": [
    "### У цьому блокноті підсумовані інструменти та екосистема даних"
   ]
  },
  {
   "cell_type": "markdown",
   "id": "dc730285-7584-4bf0-9313-c13eb42c599e",
   "metadata": {},
   "source": [
    "__ЦІЛІ:__\n",
    "- мови, які використовуються при роботі з данними;\n",
    "- загальновживані бібліотеки для роботи з дпнними;\n",
    "- бази даних\n"
   ]
  },
  {
   "cell_type": "markdown",
   "id": "f5c2791e-f96f-45dd-aaba-6234e6e2b5e4",
   "metadata": {},
   "source": [
    "#### Деякі з популярних мов, які використовують науковці з даних, це:\n",
    "#### 1. Python\n",
    "#### 2. R\n",
    "#### 3. SQL\n",
    "#### 4. Java\n",
    "#### 5. Scala\n",
    "#### 6. JavaScript\n"
   ]
  },
  {
   "cell_type": "markdown",
   "id": "1f7c0254-271a-4060-a418-847ef726193f",
   "metadata": {},
   "source": [
    "#### Деякі з загальновживаних бібліотек, які використовують науковці з даних, включають:\n",
    "#### 1. Pandas\n",
    "#### 2. NumPy\n",
    "#### 3.Seaborn\n",
    "#### 4. SciPy\n",
    "#### 5. Matplotlib\n"
   ]
  },
  {
   "attachments": {},
   "cell_type": "markdown",
   "id": "6e2baae9-b595-4e1c-86df-9f89c700bcdc",
   "metadata": {},
   "source": [
    "|Інструменти даних|\n",
    "|-----------------|\n",
    "|MySQL|\n",
    "|PostgreSQL|\n",
    "|MongoDB|"
   ]
  },
  {
   "attachments": {},
   "cell_type": "markdown",
   "id": "438d42c0-22d7-4474-b7cb-a693641d737d",
   "metadata": {},
   "source": [
    "### Нижче наведено кілька прикладів оцінки арифметичних виразів у Python"
   ]
  },
  {
   "attachments": {},
   "cell_type": "markdown",
   "id": "b97e68b7-ba5a-4d30-beb8-01b7568797c0",
   "metadata": {},
   "source": [
    "_Це простий арифметичний вираз для множення, а потім додавання цілих чисел_"
   ]
  },
  {
   "cell_type": "code",
   "execution_count": 33,
   "id": "6bbc8d59-c920-4963-b85e-f64590ad2b1a",
   "metadata": {},
   "outputs": [
    {
     "data": {
      "text/plain": [
       "17"
      ]
     },
     "execution_count": 33,
     "metadata": {},
     "output_type": "execute_result"
    }
   ],
   "source": [
    "(3*4)+5"
   ]
  },
  {
   "attachments": {},
   "cell_type": "markdown",
   "id": "8b6d2dce-8b03-4c89-8f38-a3bcb82619f3",
   "metadata": {},
   "source": [
    "Це перетворить 200 хвилин на години, ділячи на 60"
   ]
  },
  {
   "cell_type": "code",
   "execution_count": 37,
   "id": "5ddf92ca-ce55-4690-982a-5453139a66bb",
   "metadata": {},
   "outputs": [
    {
     "data": {
      "text/plain": [
       "3.3333333333333335"
      ]
     },
     "execution_count": 37,
     "metadata": {},
     "output_type": "execute_result"
    }
   ],
   "source": [
    "200/60"
   ]
  },
  {
   "cell_type": "markdown",
   "id": "9228c54e-0baf-4ffa-9112-ae1787cc09a5",
   "metadata": {},
   "source": [
    "## Автор\n",
    "Григорій"
   ]
  }
 ],
 "metadata": {
  "kernelspec": {
   "display_name": "Python 3 (ipykernel)",
   "language": "python",
   "name": "python3"
  },
  "language_info": {
   "codemirror_mode": {
    "name": "ipython",
    "version": 3
   },
   "file_extension": ".py",
   "mimetype": "text/x-python",
   "name": "python",
   "nbconvert_exporter": "python",
   "pygments_lexer": "ipython3",
   "version": "3.12.4"
  }
 },
 "nbformat": 4,
 "nbformat_minor": 5
}
